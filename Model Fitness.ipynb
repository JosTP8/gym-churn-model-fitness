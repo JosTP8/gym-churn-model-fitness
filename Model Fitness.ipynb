{
  "metadata": {
    "kernelspec": {
      "display_name": "Python (Pyodide)",
      "language": "python",
      "name": "python"
    },
    "language_info": {
      "codemirror_mode": {
        "name": "python",
        "version": 3
      },
      "file_extension": ".py",
      "mimetype": "text/x-python",
      "name": "python",
      "nbconvert_exporter": "python",
      "pygments_lexer": "ipython3",
      "version": "3.8"
    }
  },
  "nbformat_minor": 5,
  "nbformat": 4,
  "cells": [
    {
      "id": "328ce3c8-3277-41f5-bd17-8fed7ca9da97",
      "cell_type": "markdown",
      "source": "#  Model Fitness",
      "metadata": {}
    },
    {
      "id": "760b8b25-62a5-4f31-989d-5b67116950b6",
      "cell_type": "markdown",
      "source": "Primero cargo el dataset y le doy un primer vistazo",
      "metadata": {}
    },
    {
      "id": "adbcd71f-a13f-4164-ba66-fd3cd9568b45",
      "cell_type": "code",
      "source": "# Importamos las librerías necesarias\nimport pandas as pd\n\n# Cargamos el dataset\ndf = pd.read_csv('/datasets/gym_churn_us.csv')\n\n# Mostramos las primeras filas del dataset para familiarizarnos con los datos\ndf.head()\n",
      "metadata": {
        "trusted": true
      },
      "outputs": [],
      "execution_count": null
    },
    {
      "id": "041d2d8d-49e2-46f2-97d6-95a30cc48f98",
      "cell_type": "code",
      "source": "# Observamos la estructura del DataFrame\ndf.info()\n",
      "metadata": {
        "trusted": true
      },
      "outputs": [],
      "execution_count": null
    },
    {
      "id": "519ec10a-312b-495b-82e8-3352217eeccd",
      "cell_type": "markdown",
      "source": "🧱 Revisión estructural del dataset El dataset contiene 4,000 filas y 14 columnas.\n\nNo hay valores nulos en ninguna de las columnas.\n\nLa mayoría de las columnas son de tipo int64, lo cual indica que son variables numéricas enteras.\n\nCuatro columnas son de tipo float64, lo cual tiene sentido ya que representan medidas continuas, como la frecuencia de clases o los gastos adicionales.",
      "metadata": {}
    },
    {
      "id": "18436963-6578-4125-bf50-67ce227e67ea",
      "cell_type": "code",
      "source": "# Estadísticas descriptivas de todas las columnas numéricas\ndf.describe()",
      "metadata": {
        "trusted": true
      },
      "outputs": [],
      "execution_count": null
    },
    {
      "id": "7f524d9e-aed9-4691-afa5-d870187031fa",
      "cell_type": "markdown",
      "source": "Edad (Age): El rango va de 18 a 41 años, con una media cercana a los 29 años. La mayoría de los clientes están en el rango de edad joven-adulto.\n\nLifetime: Algunos clientes han estado menos de un mes (0 meses) en el gimnasio, mientras que otros llevan hasta 31 meses. La mediana es de 3 meses, lo cual sugiere que muchos clientes son relativamente nuevos.\n\nContract_period: Tiene una media de 4.68 meses, lo que sugiere que la mayoría de los contratos son de 1, 3 o 6 meses. El valor máximo de 12 meses indica membresías anuales.\n\nAvg_additional_charges_total: Hay una gran variación: desde casi cero hasta más de 550 dólares gastados en servicios adicionales. La media es de 146.94, con una desviación estándar bastante alta.\n\nAvg_class_frequency_total vs. current_month: La frecuencia promedio de asistencia semanal es de alrededor de 1.87 veces por semana históricamente, y 1.76 veces en el último mes. Esto sugiere cierta estabilidad, aunque podría analizarse si una disminución reciente anticipa la cancelación.\n\nChurn (cancelación): La media de 0.2652 indica que aproximadamente el 26.5% de los clientes cancelaron durante el período observado. Esto será útil como referencia base para los modelos predictivos.",
      "metadata": {}
    },
    {
      "id": "9201ca15-5ba1-46aa-a1c4-5c4cc26cc362",
      "cell_type": "code",
      "source": "# Promedios por grupo: clientes que cancelaron vs. los que no\ndf.groupby('Churn').mean()\n",
      "metadata": {
        "trusted": true
      },
      "outputs": [],
      "execution_count": null
    },
    {
      "id": "bc157aa4-56d9-4b88-b094-57b2677970c5",
      "cell_type": "markdown",
      "source": "Near_Location: El 87% de quienes no cancelaron vivían o trabajaban cerca del gimnasio, mientras que solo el 76% de los que cancelaron estaban cerca. Esto sugiere que la proximidad al gimnasio puede influir positivamente en la retención.\n\nContract_period: Los clientes activos tenían contratos promedio de casi 6 meses, mientras que los que se fueron tenían contratos mucho más cortos (promedio de 1.7 meses). Esto indica que los contratos más largos ayudan a retener clientes.\n\nGroup_visits: Participar en clases grupales también parece estar correlacionado con una mayor permanencia. El promedio es 0.46 entre quienes se quedan, contra 0.26 entre quienes se van.\n\nAvg_additional_charges_total: Quienes no cancelaron gastaron más en servicios adicionales (~158 USD vs 115 USD). Esto puede reflejar una mayor implicación o satisfacción con el gimnasio.\n\nLifetime: El tiempo como cliente es mucho mayor en quienes siguen activos (4.7 meses) en comparación con los que cancelaron (0.99 meses).\n\nFrecuencia de asistencia: Tanto la frecuencia total como la del último mes son significativamente más altas en los clientes que permanecen (más de 2 veces por semana) frente a quienes cancelaron (alrededor de 1 vez por semana).\n\nEstas diferencias sugieren que la cercanía, el tipo de contrato, la participación en actividades grupales, y la frecuencia de uso son variables clave a considerar al predecir la cancelación de clientes.",
      "metadata": {}
    },
    {
      "id": "5b853f65-7987-438a-bb06-1d2b34616e3e",
      "cell_type": "markdown",
      "source": "Vamos a trazar histogramas y gráficos de distribución para observar cómo se comportan las variables más importantes (como edad, tiempo de vida como cliente, frecuencia de asistencia, etc.) en los dos grupos: los que cancelaron (Churn = 1) y los que se quedaron (Churn = 0).\n\nEstas visualizaciones nos permitirán detectar patrones más claros y comparativos entre ambos perfiles de clientes.",
      "metadata": {}
    },
    {
      "id": "e79c3ca7-d4ae-4999-bba7-cc9926124b7a",
      "cell_type": "code",
      "source": "import seaborn as sns\nimport matplotlib.pyplot as plt\n\n# Ajuste del estilo general\nsns.set(style=\"whitegrid\")\n\n# Lista de columnas numéricas que queremos visualizar\ncolumns_to_plot = ['Age', 'Lifetime', 'Avg_class_frequency_total', 'Avg_class_frequency_current_month', 'Avg_additional_charges_total']\n\n# Creamos una figura con subplots\nplt.figure(figsize=(18, 15))\n\n# Graficamos cada variable\nfor i, col in enumerate(columns_to_plot, 1):\n    plt.subplot(3, 2, i)\n    sns.histplot(data=df, x=col, hue='Churn', kde=True, bins=30, palette='Set2')\n    plt.title(f'Distribución de {col} por Cancelación')\n\nplt.tight_layout()\nplt.show()\n",
      "metadata": {
        "trusted": true
      },
      "outputs": [],
      "execution_count": null
    },
    {
      "id": "4b312d35-1c62-47cd-809d-c1090b3b422c",
      "cell_type": "markdown",
      "source": "🔸 Edad (Age) Los clientes que cancelaron tienden a concentrarse en un rango más joven, alrededor de los 24-28 años.\n\nEn cambio, los clientes que se quedan tienen una distribución más amplia, concentrada en los 28-33 años.\n\nEsto sugiere que los usuarios ligeramente mayores podrían tener mayor compromiso o estabilidad.\n\n🔸 Tiempo como cliente (Lifetime) La mayoría de quienes cancelaron estuvieron menos de 2 meses en el gimnasio.\n\nLos que no cancelaron tienen una distribución más extendida, con muchos clientes de larga duración.\n\nEsto refuerza la idea de que los primeros meses son críticos para retener al cliente.\n\n🔸 Frecuencia promedio total (Avg_class_frequency_total) La frecuencia de visitas semanales es más alta en quienes se quedan (pico cerca de 2 a 3 veces por semana).\n\nQuienes cancelan suelen asistir con menos frecuencia, especialmente por debajo de 1.5 veces por semana.\n\nEsto indica que una mayor participación está fuertemente ligada a la permanencia.\n\n🔸 Frecuencia en el último mes (Avg_class_frequency_current_month) Se repite el patrón anterior: los que no cancelan tienen frecuencias más altas (2–3 veces por semana).\n\nLos que cancelan presentan una caída notable, muchos con menos de 1 visita semanal en el último mes.\n\nEsto podría ser un síntoma de desconexión progresiva del cliente.\n\n🔸 Gastos adicionales (Avg_additional_charges_total) Las personas que gastan más en servicios adicionales tienden a permanecer.\n\nLos clientes que cancelan tienen un patrón más plano y gastos menores.\n\nEsto puede interpretarse como que un mayor involucramiento económico está ligado a una mayor retención.",
      "metadata": {}
    },
    {
      "id": "2c9e2d9d-4c2a-4b4e-a0b6-4ce714238e9a",
      "cell_type": "markdown",
      "source": "🔗 Matriz de correlación\n\nPara identificar relaciones entre las variables numéricas, construiremos una matriz de correlación utilizando el coeficiente de Pearson. Este coeficiente varía entre -1 y 1:\n\n1 indica una correlación positiva perfecta.\n\n-1 indica una correlación negativa perfecta.\n\n0 indica ausencia de correlación.\n\nNos interesa especialmente identificar qué variables tienen mayor correlación con Churn, ya que eso nos dará pistas sobre los factores más relevantes para la cancelación.",
      "metadata": {}
    },
    {
      "id": "8df6a448-77e4-498e-b6d4-93df84f5da6e",
      "cell_type": "markdown",
      "source": "# Calculamos la matriz de correlación\ncorr_matrix = df.corr()\n\n# Visualizamos con un mapa de calor\nplt.figure(figsize=(12, 8))\nsns.heatmap(corr_matrix, annot=True, cmap='coolwarm', fmt=\".2f\", square=True)\nplt.title('Matriz de correlación')\nplt.show()\n",
      "metadata": {}
    },
    {
      "id": "7337632a-035a-42bf-9798-c1cbb3a914dd",
      "cell_type": "markdown",
      "source": "🔹 Variables con mayor correlación negativa con Churn: Contract_period (-0.39): Cuanto más largo es el contrato, menor es la probabilidad de cancelar. Esto confirma que los contratos extensos ayudan a la retención.\n\nMonth_to_end_contract (-0.36): Las personas con más tiempo restante en su contrato también tienden a no cancelar.\n\nAvg_class_frequency_current_month (-0.41) y Avg_class_frequency_total (-0.25): La frecuencia de asistencia, tanto histórica como reciente, tiene una relación clara con la permanencia del cliente.\n\nLifetime (-0.26): A más meses como cliente, menos probabilidad de cancelar.\n\nGroup_visits (-0.20): Participar en clases grupales también tiene una correlación inversa moderada con la cancelación.\n\n🔹 Variables con correlación casi nula con Churn: Gender, Phone, Promo_friends, y Partner tienen correlaciones cercanas a 0, lo que indica que no influyen de forma significativa en la cancelación.\n\nAge tiene una correlación muy baja (-0.11), lo que sugiere que no es un factor determinante, aunque combinado con otras variables podría tener cierto impacto.\n\nEn resumen, los mejores predictores de cancelación parecen estar relacionados con la duración del contrato, la frecuencia de asistencia, el tiempo como cliente y el grado de involucramiento (visitas grupales, gastos adicionales).",
      "metadata": {}
    },
    {
      "id": "59e731fb-c49e-4e3a-a82a-8bd471a69c26",
      "cell_type": "markdown",
      "source": "🧪 Paso 3: Construcción del modelo de predicción\n🎯 Objetivo Vamos a entrenar dos modelos de clasificación binaria para predecir si un cliente cancelará su membresía en el próximo mes (Churn = 1) o no (Churn = 0). Los modelos que probaremos son:\n\nRegresión logística\n\nBosque aleatorio (Random Forest)\n\nAntes de entrenar los modelos, debemos preparar nuestros datos:\n\nDefinir la variable objetivo y.\n\nSeleccionar las características predictoras X.\n\nDividir los datos en entrenamiento y validación.\n\nEscalar las variables numéricas para mejorar el rendimiento del modelo de regresión logística.",
      "metadata": {}
    },
    {
      "id": "7e7a76ab-3a82-47d0-913a-ca73f08da2a3",
      "cell_type": "code",
      "source": "from sklearn.model_selection import train_test_split\nfrom sklearn.preprocessing import StandardScaler\n\n# 1. Variable objetivo\ny = df['Churn']\n\n# 2. Variables predictoras (eliminamos 'Churn')\nX = df.drop(columns='Churn')\n\n# 3. Dividimos en entrenamiento y validación (80% - 20%)\nX_train, X_valid, y_train, y_valid = train_test_split(\n    X, y, test_size=0.2, random_state=42, stratify=y)\n\n# 4. Estandarización\nscaler = StandardScaler()\nX_train_scaled = scaler.fit_transform(X_train)\nX_valid_scaled = scaler.transform(X_valid)",
      "metadata": {
        "trusted": true
      },
      "outputs": [],
      "execution_count": null
    },
    {
      "id": "cab4b10f-2aff-434e-85fc-7a8fc2fc8f77",
      "cell_type": "markdown",
      "source": "Vamos a entrenar los dos modelos con los datos estandarizados y comparar sus resultados. Utilizaremos las siguientes métricas:\n\nExactitud (Accuracy): proporción de predicciones correctas.\n\nPrecisión (Precision): proporción de verdaderos positivos sobre todos los positivos predichos.\n\nRecall: proporción de verdaderos positivos sobre todos los positivos reales.",
      "metadata": {}
    },
    {
      "id": "ea6031af-7d37-4db8-92f8-cf486f2048d3",
      "cell_type": "code",
      "source": "from sklearn.linear_model import LogisticRegression\nfrom sklearn.ensemble import RandomForestClassifier\nfrom sklearn.metrics import accuracy_score, precision_score, recall_score\n\n# 1. Regresión logística\nlog_model = LogisticRegression(random_state=42)\nlog_model.fit(X_train_scaled, y_train)\nlog_preds = log_model.predict(X_valid_scaled)\n\n# 2. Bosque aleatorio\nrf_model = RandomForestClassifier(random_state=42)\nrf_model.fit(X_train, y_train)  # Notamos que el bosque aleatorio puede trabajar sin escalar\nrf_preds = rf_model.predict(X_valid)\n\n# 3. Evaluación\ndef evaluar_modelo(nombre, y_true, y_pred):\n    print(f'📌 {nombre}')\n    print(f'Accuracy: {accuracy_score(y_true, y_pred):.3f}')\n    print(f'Precision: {precision_score(y_true, y_pred):.3f}')\n    print(f'Recall: {recall_score(y_true, y_pred):.3f}')\n    print('---')\n\nevaluar_modelo(\"Regresión Logística\", y_valid, log_preds)\nevaluar_modelo(\"Bosque Aleatorio\", y_valid, rf_preds)",
      "metadata": {
        "trusted": true
      },
      "outputs": [],
      "execution_count": null
    },
    {
      "id": "7fb60dc9-48bd-4319-9e38-625867642ada",
      "cell_type": "markdown",
      "source": "Ambos modelos muestran alta precisión y recall, lo cual indica que son buenos predictores para identificar clientes que se darán de baja.\n\nEl modelo de bosque aleatorio tiene un desempeño ligeramente superior en todas las métricas:\n\nDetecta mejor a los clientes que van a cancelar (mayor recall).\n\nHace predicciones más confiables (mayor precisión).\n\nTiene la mayor exactitud global.\n\nConclusión: el bosque aleatorio es el modelo más recomendado para este caso. Además, tiene la ventaja de manejar bien relaciones no lineales y variables no escaladas.",
      "metadata": {}
    },
    {
      "id": "3fbde99d-583d-413e-9a68-b270cc96a2ed",
      "cell_type": "markdown",
      "source": "🧹 Preparación:\nEliminamos la variable objetivo y estandarizamos los datos Primero preparamos los datos para el clustering:\n\nEliminamos la columna Churn.\n\nEstandarizamos los datos para que todas las variables tengan igual peso.",
      "metadata": {}
    },
    {
      "id": "47c7a0a9-8c07-44fe-be51-0c21312a2fde",
      "cell_type": "code",
      "source": "from sklearn.preprocessing import StandardScaler\n\n# 1. Eliminamos la columna de cancelación\ndf_cluster = df.drop(columns='Churn')\n\n# 2. Estandarizamos todas las variables\nscaler = StandardScaler()\ndf_scaled = scaler.fit_transform(df_cluster)\n",
      "metadata": {
        "trusted": true
      },
      "outputs": [],
      "execution_count": null
    },
    {
      "id": "664e5419-a252-4c3c-a3f6-1899597f5487",
      "cell_type": "code",
      "source": "from scipy.cluster.hierarchy import dendrogram, linkage\nimport matplotlib.pyplot as plt\n\n# Generamos la matriz de enlaces jerárquicos\nlinked = linkage(df_scaled, method='ward')  # método 'ward' minimiza la varianza intra-cluster\n\n# Trazamos el dendrograma\nplt.figure(figsize=(15, 7))\ndendrogram(linked, orientation='top', distance_sort='descending', show_leaf_counts=False)\nplt.title('Dendrograma de Clientes')\nplt.xlabel('Índice de Cliente')\nplt.ylabel('Distancia')\nplt.show()",
      "metadata": {
        "trusted": true
      },
      "outputs": [],
      "execution_count": null
    },
    {
      "id": "580b7c68-ebcd-464a-b9b2-676c348b72ec",
      "cell_type": "markdown",
      "source": "Podemos observar una separación natural en 5 grandes ramas principales, lo que sugiere que usar 5 clústeres es una elección razonable.\n\nAhora pasaremos a aplicar el algoritmo K-Means para clasificar a los clientes en estos 5 grupos.",
      "metadata": {}
    },
    {
      "id": "b2450b8c-9e4e-4e8d-96ec-17bc0ba62e8f",
      "cell_type": "markdown",
      "source": "🎯 Clustering con K-Means (n = 5)\n\nUtilizaremos el algoritmo de K-Means, que busca agrupar los puntos (clientes) en función de la distancia a los centros de los clústeres. Al usar 5 grupos, podremos identificar distintos perfiles de clientes con comportamientos similares.",
      "metadata": {}
    },
    {
      "id": "62bf73be-7537-438d-916c-6972058f2988",
      "cell_type": "code",
      "source": "from sklearn.cluster import KMeans\n\n# Entrenamos el modelo con 5 clústeres\nkmeans = KMeans(n_clusters=5, random_state=42)\nclusters = kmeans.fit_predict(df_scaled)\n\n# Agregamos la columna 'cluster' al DataFrame original\ndf['cluster'] = clusters\n\n# Mostramos los primeros registros con su clúster asignado\ndf[['cluster'] + df.columns[:-1].tolist()].head()",
      "metadata": {
        "trusted": true
      },
      "outputs": [],
      "execution_count": null
    },
    {
      "id": "bd80bcec-0af9-46a6-9bea-39337933152c",
      "cell_type": "markdown",
      "source": "🧠 Análisis de los perfiles por clúster\n\nVamos a calcular las medias por clúster para entender las características promedio de cada grupo. Esto nos permitirá descubrir qué distingue a cada tipo de cliente.",
      "metadata": {}
    },
    {
      "id": "48730342-1ab2-47cf-9cc8-28947b273d56",
      "cell_type": "code",
      "source": "# Promedios de características por clúster\ndf.groupby('cluster').mean().round(2)",
      "metadata": {
        "trusted": true
      },
      "outputs": [],
      "execution_count": null
    },
    {
      "id": "6813de85-cf94-4166-a58a-0f1f4a42c3ae",
      "cell_type": "markdown",
      "source": "🧩 Perfil y análisis de clústeres A partir del agrupamiento de clientes, se identificaron 5 clústeres con características distintas. A continuación se describen los perfiles promedio de cada grupo y su propensión a cancelar (columna Churn):\n\n🔹 Clúster 0 — Compromiso moderado Alta proporción vive cerca (0.95) y tiene pareja asociada (0.83).\n\nContratos cortos (3 meses) y duración de membresía corta (3.8 meses).\n\nAsisten regularmente, pero su frecuencia ha bajado (3.77 → 1.67).\n\nTasa de cancelación: 25%\n\n🔹 Clúster 1 — Frecuentes y estables Poco asociados con empresas y menos promociones.\n\nAlta frecuencia actual (4.78) y contratos más cortos (~2.6 meses).\n\nGastan más en servicios extra (~160).\n\nTasa de cancelación más baja: 9%\n\n🔹 Clúster 2 — Contratos largos y fieles Altísima duración de contrato (~11.85 meses).\n\nTienen buena frecuencia histórica (4.68) y mucha antigüedad (~10.8 meses).\n\nPerfil asociado a compañías (~0.74).\n\nTasa de cancelación más baja: 2%\n\n🔹 Clúster 3 — Muy propensos a cancelar Baja frecuencia de asistencia (histórica y actual).\n\nNo están cerca, ni asociados ni traídos por amigos.\n\nBaja permanencia (1.8 meses).\n\nTasa de cancelación más alta: 57%\n\n🔹 Clúster 4 — Involucrados pero en riesgo Buena frecuencia histórica (3.94), pero bajan su asistencia actual.\n\nTienen contratos de duración media (~4.7 meses).\n\nModerada tasa de cancelación.\n\nTasa de cancelación: 27%",
      "metadata": {}
    },
    {
      "id": "1f5a3726-2905-4597-aeb8-e99c699c26e5",
      "cell_type": "markdown",
      "source": "📊 Visualización de características por clúster Trazaremos histogramas agrupados por clúster para variables clave como:\n\nLifetime\n\nContract_period\n\nAvg_class_frequency_total\n\nAvg_class_frequency_current_month\n\nAvg_additional_charges_total",
      "metadata": {}
    },
    {
      "id": "e90e90f4-b7e2-4e21-a157-a422e97ccf10",
      "cell_type": "code",
      "source": "import seaborn as sns\nimport matplotlib.pyplot as plt\n\n# Variables a graficar\nfeatures = [\n    'Lifetime',\n    'Contract_period',\n    'Avg_class_frequency_total',\n    'Avg_class_frequency_current_month',\n    'Avg_additional_charges_total'\n]\n\n# Tamaño de figura\nplt.figure(figsize=(18, 15))\n\n# Graficar cada variable\nfor i, col in enumerate(features, 1):\n    plt.subplot(3, 2, i)\n    sns.boxplot(data=df, x='cluster', y=col, palette='Set2')\n    plt.title(f'{col} por Clúster')\n    plt.xlabel('Clúster')\n    plt.ylabel(col)\n\nplt.tight_layout()\nplt.show()\n",
      "metadata": {
        "trusted": true
      },
      "outputs": [],
      "execution_count": null
    },
    {
      "id": "d3e8b8e2-354d-4fa5-aadf-030c780ba255",
      "cell_type": "markdown",
      "source": "📊 Análisis visual de características por clúster Estas gráficas de caja permiten comparar visualmente los perfiles de cada clúster según características clave:\n\n🔸 Lifetime (tiempo como cliente) El clúster 2 tiene una mayor mediana y más clientes con larga permanencia.\n\nEl clúster 3 presenta los tiempos más bajos, lo que coincide con su alta tasa de cancelación.\n\n🔸 Contract_period (duración del contrato) El clúster 2 tiene contratos más largos (muchos de 12 meses).\n\nEl clúster 3 tiene contratos muy cortos, lo que puede facilitar la cancelación.\n\n🔸 Avg_class_frequency_total y current_month (frecuencia de asistencia) El clúster 1 destaca por tener la mayor frecuencia tanto histórica como reciente, lo cual coincide con su baja tasa de cancelación.\n\nEl clúster 3 tiene frecuencias muy bajas, especialmente en el mes actual, lo que refuerza su riesgo de abandono.\n\n🔸 Avg_additional_charges_total (gastos en servicios adicionales) El clúster 2 y el clúster 1 son los que más gastan, lo que sugiere mayor implicación con el gimnasio.\n\nEl clúster 3, nuevamente, destaca por sus bajos niveles.",
      "metadata": {}
    },
    {
      "id": "2ca1a22f-2880-4b22-9426-12f1f738632e",
      "cell_type": "markdown",
      "source": "# Conclusiones y recomendaciones\n\n📌 Conclusiones generales La cancelación afecta aproximadamente al 26% de los clientes, lo cual representa una tasa significativa de pérdida.\n\nLos factores más asociados a la retención de clientes son:\n\nDuración del contrato: contratos largos (6-12 meses) están vinculados a menores tasas de cancelación.\n\nFrecuencia de visitas: tanto histórica como reciente. Una baja frecuencia mensual suele preceder la cancelación.\n\nParticipación en clases grupales y gastos adicionales también reflejan mayor compromiso y menor riesgo de abandono.\n\nClientes nuevos (poca antigüedad) tienen un riesgo alto de cancelar.\n\n👥 Segmentos de clientes detectados (clústeres) Clúster 1 y 2: clientes más fieles, con alta participación, buena frecuencia y contratos más largos. Son un ejemplo a seguir.\n\nClúster 3: el más crítico, con alta tasa de cancelación, baja frecuencia de visitas, poca antigüedad y contratos cortos.\n\nClúster 0 y 4: perfiles intermedios, con riesgo moderado que podría reducirse con medidas adecuadas.",
      "metadata": {}
    },
    {
      "id": "4b07ddd0-7db4-49c6-ba53-ef202d63398c",
      "cell_type": "markdown",
      "source": "# 💡 Recomendaciones para mejorar la retención\nFortalecer las primeras semanas:\n\nImplementar un programa de bienvenida y seguimiento durante el primer mes.\n\nIncentivar la participación en clases grupales desde el inicio.\n\nPromover contratos más largos con beneficios:\n\nDescuentos o beneficios exclusivos para quienes tomen membresías de 6 o 12 meses.\n\nDetectar abandono temprano:\n\nAutomatizar alertas cuando la frecuencia mensual baje bruscamente.\n\nContactar a estos clientes con promociones o motivación personalizada.\n\nFomentar el uso de servicios adicionales:\n\nBonificaciones cruzadas (por ejemplo, un masaje gratis al tercer mes).\n\nProgramas de lealtad para quienes usan cafetería, tienda o servicios complementarios.",
      "metadata": {}
    },
    {
      "id": "2b71f1c8-5c74-4275-b566-3ac85e7aa322",
      "cell_type": "markdown",
      "source": "# 🏁 Conclusión final del proyecto\n\nEn este proyecto realizamos un análisis integral de los datos de clientes del gimnasio Model Fitness con el objetivo de comprender y reducir la cancelación de membresías. A través del análisis exploratorio, la construcción de modelos predictivos y el agrupamiento de usuarios, obtuvimos hallazgos clave sobre los factores que influyen en la retención.\n\nSe identificó que la frecuencia de visitas, la duración del contrato, la participación en clases grupales y el nivel de gasto en servicios adicionales son variables cruciales en la permanencia del cliente. Además, se identificaron distintos perfiles de usuario mediante clustering, lo que permitió distinguir grupos de alto y bajo riesgo de cancelación.\n\nGracias a estos análisis, se proponen estrategias claras y aplicables para mejorar la retención, entre ellas: fortalecer el onboarding de nuevos clientes, fomentar contratos a largo plazo, detectar signos tempranos de abandono y promover un mayor uso de servicios complementarios.\n\nEste estudio sienta las bases para una estrategia de marketing y atención más enfocada, personalizada y basada en datos, con el fin de maximizar la lealtad del cliente y la sostenibilidad del negocio.",
      "metadata": {}
    }
  ]
}